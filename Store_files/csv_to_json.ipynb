{
 "cells": [
  {
   "cell_type": "code",
   "execution_count": null,
   "metadata": {},
   "outputs": [],
   "source": [
    "import csv\n",
    "import json"
   ]
  },
  {
   "cell_type": "code",
   "execution_count": null,
   "metadata": {},
   "outputs": [],
   "source": [
    "data = []\n",
    "\n",
    "# Specify the encoding while opening the file\n",
    "with open(r'E:\\Post ADP\\Capstone Project\\Scrapping from Amazon\\FYP\\Preprocessing\\FeatureExtraction.csv', 'r', encoding='utf-8') as f:\n",
    "    csvFile = csv.DictReader(f)\n",
    "\n",
    "    for row in csvFile:\n",
    "        data.append(row)\n",
    "\n",
    "# Write the data to a JSON file\n",
    "with open(r'E:\\Post ADP\\Capstone Project\\Scrapping from Amazon\\FYP\\Preprocessing\\FeatureExtraction.json', 'w', encoding='utf-8') as f:\n",
    "    json.dump(data, f, indent=4)\n",
    "\n",
    "print(\"CSV data has been successfully converted to JSON and saved.\")"
   ]
  }
 ],
 "metadata": {
  "language_info": {
   "name": "python"
  }
 },
 "nbformat": 4,
 "nbformat_minor": 2
}
