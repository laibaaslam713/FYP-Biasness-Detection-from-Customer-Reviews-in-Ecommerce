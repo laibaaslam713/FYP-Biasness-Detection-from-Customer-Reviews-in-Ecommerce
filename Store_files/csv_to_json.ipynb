{
 "cells": [
  {
   "cell_type": "code",
   "execution_count": 3,
   "metadata": {},
   "outputs": [],
   "source": [
    "import csv\n",
    "import json"
   ]
  },
  {
   "cell_type": "code",
   "execution_count": 4,
   "metadata": {},
   "outputs": [
    {
     "name": "stdout",
     "output_type": "stream",
     "text": [
      "CSV data has been successfully converted to JSON and saved.\n"
     ]
    }
   ],
   "source": [
    "data = []\n",
    "\n",
    "# Specify the encoding while opening the file\n",
    "with open(r'E:\\Post ADP\\Capstone Project\\FYP\\Preprocessing\\FeatureExtraction.csv', 'r', encoding='utf-8') as f:\n",
    "    csvFile = csv.DictReader(f)\n",
    "\n",
    "    for row in csvFile:\n",
    "        data.append(row)\n",
    "\n",
    "# Write the data to a JSON file\n",
    "with open(r'E:\\Post ADP\\Capstone Project\\FYP\\Preprocessing\\FeatureExtraction.json', 'w', encoding='utf-8') as f:\n",
    "    json.dump(data, f, indent=4)\n",
    "\n",
    "print(\"CSV data has been successfully converted to JSON and saved.\")"
   ]
  }
 ],
 "metadata": {
  "kernelspec": {
   "display_name": "Python 3",
   "language": "python",
   "name": "python3"
  },
  "language_info": {
   "codemirror_mode": {
    "name": "ipython",
    "version": 3
   },
   "file_extension": ".py",
   "mimetype": "text/x-python",
   "name": "python",
   "nbconvert_exporter": "python",
   "pygments_lexer": "ipython3",
   "version": "3.12.5"
  }
 },
 "nbformat": 4,
 "nbformat_minor": 2
}
