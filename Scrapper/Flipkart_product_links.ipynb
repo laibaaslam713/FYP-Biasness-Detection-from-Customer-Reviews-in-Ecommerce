{
 "cells": [
  {
   "cell_type": "code",
   "execution_count": null,
   "metadata": {},
   "outputs": [],
   "source": [
    "import pandas as pd\n",
    "import json\n",
    "from selenium import webdriver\n",
    "from selenium.webdriver.chrome.service import Service\n",
    "from selenium.webdriver.common.by import By\n",
    "from webdriver_manager.chrome import ChromeDriverManager\n",
    "from selenium.webdriver.support.ui import WebDriverWait\n",
    "from selenium.webdriver.support import expected_conditions as EC\n",
    "import time\n",
    "\n",
    "options = webdriver.ChromeOptions()\n",
    "driver = webdriver.Chrome(service=Service(service = Service(\"e:\\software\\chromedriver-win64\")), options=options)"
   ]
  },
  {
   "cell_type": "code",
   "execution_count": null,
   "metadata": {},
   "outputs": [],
   "source": [
    "driver.get('https://www.flipkart.com/furniture/~kids-furniture/pr?sid=wwe&otracker=nmenu_sub_Home%20%26%20Furniture_0_Kids%20Room%20Furniture')\n",
    "\n",
    "driver.implicitly_wait(5)"
   ]
  },
  {
   "cell_type": "code",
   "execution_count": null,
   "metadata": {},
   "outputs": [
    {
     "name": "stdout",
     "output_type": "stream",
     "text": [
      "27\n",
      "Next page link: https://www.flipkart.com/home-furnishing/pr?sid=jra&marketplace=FLIPKART&otracker=nmenu_sub_Home+%26+Furniture_0_Furnishing&page=2\n",
      "54\n",
      "Next page link: https://www.flipkart.com/home-furnishing/pr?sid=jra&marketplace=FLIPKART&otracker=nmenu_sub_Home+%26+Furniture_0_Furnishing&page=3\n",
      "81\n",
      "Next page link: https://www.flipkart.com/home-furnishing/pr?sid=jra&marketplace=FLIPKART&otracker=nmenu_sub_Home+%26+Furniture_0_Furnishing&page=4\n",
      "108\n",
      "Next page link: https://www.flipkart.com/home-furnishing/pr?sid=jra&marketplace=FLIPKART&otracker=nmenu_sub_Home+%26+Furniture_0_Furnishing&page=5\n",
      "135\n",
      "Next page link: https://www.flipkart.com/home-furnishing/pr?sid=jra&marketplace=FLIPKART&otracker=nmenu_sub_Home+%26+Furniture_0_Furnishing&page=6\n",
      "162\n",
      "Next page link: https://www.flipkart.com/home-furnishing/pr?sid=jra&marketplace=FLIPKART&otracker=nmenu_sub_Home+%26+Furniture_0_Furnishing&page=7\n",
      "189\n",
      "Next page link: https://www.flipkart.com/home-furnishing/pr?sid=jra&marketplace=FLIPKART&otracker=nmenu_sub_Home+%26+Furniture_0_Furnishing&page=8\n",
      "216\n",
      "Next page link: https://www.flipkart.com/home-furnishing/pr?sid=jra&marketplace=FLIPKART&otracker=nmenu_sub_Home+%26+Furniture_0_Furnishing&page=9\n",
      "243\n",
      "Next page link: https://www.flipkart.com/home-furnishing/pr?sid=jra&marketplace=FLIPKART&otracker=nmenu_sub_Home+%26+Furniture_0_Furnishing&page=10\n",
      "270\n",
      "Next page link: https://www.flipkart.com/home-furnishing/pr?sid=jra&marketplace=FLIPKART&otracker=nmenu_sub_Home+%26+Furniture_0_Furnishing&page=11\n",
      "297\n",
      "Next page link: https://www.flipkart.com/home-furnishing/pr?sid=jra&marketplace=FLIPKART&otracker=nmenu_sub_Home+%26+Furniture_0_Furnishing&page=12\n",
      "324\n",
      "Next page link: https://www.flipkart.com/home-furnishing/pr?sid=jra&marketplace=FLIPKART&otracker=nmenu_sub_Home+%26+Furniture_0_Furnishing&page=13\n",
      "351\n",
      "Next page link: https://www.flipkart.com/home-furnishing/pr?sid=jra&marketplace=FLIPKART&otracker=nmenu_sub_Home+%26+Furniture_0_Furnishing&page=14\n",
      "378\n",
      "Next page link: https://www.flipkart.com/home-furnishing/pr?sid=jra&marketplace=FLIPKART&otracker=nmenu_sub_Home+%26+Furniture_0_Furnishing&page=15\n",
      "405\n",
      "Next page link: https://www.flipkart.com/home-furnishing/pr?sid=jra&marketplace=FLIPKART&otracker=nmenu_sub_Home+%26+Furniture_0_Furnishing&page=16\n",
      "432\n",
      "Next page link: https://www.flipkart.com/home-furnishing/pr?sid=jra&marketplace=FLIPKART&otracker=nmenu_sub_Home+%26+Furniture_0_Furnishing&page=17\n",
      "459\n",
      "Next page link: https://www.flipkart.com/home-furnishing/pr?sid=jra&marketplace=FLIPKART&otracker=nmenu_sub_Home+%26+Furniture_0_Furnishing&page=18\n",
      "486\n",
      "Next page link: https://www.flipkart.com/home-furnishing/pr?sid=jra&marketplace=FLIPKART&otracker=nmenu_sub_Home+%26+Furniture_0_Furnishing&page=19\n",
      "513\n",
      "Next page link: https://www.flipkart.com/home-furnishing/pr?sid=jra&marketplace=FLIPKART&otracker=nmenu_sub_Home+%26+Furniture_0_Furnishing&page=20\n",
      "540\n",
      "Next page link: https://www.flipkart.com/home-furnishing/pr?sid=jra&marketplace=FLIPKART&otracker=nmenu_sub_Home+%26+Furniture_0_Furnishing&page=21\n",
      "567\n",
      "Next page link: https://www.flipkart.com/home-furnishing/pr?sid=jra&marketplace=FLIPKART&otracker=nmenu_sub_Home+%26+Furniture_0_Furnishing&page=22\n",
      "594\n",
      "Next page link: https://www.flipkart.com/home-furnishing/pr?sid=jra&marketplace=FLIPKART&otracker=nmenu_sub_Home+%26+Furniture_0_Furnishing&page=23\n",
      "621\n",
      "Next page link: https://www.flipkart.com/home-furnishing/pr?sid=jra&marketplace=FLIPKART&otracker=nmenu_sub_Home+%26+Furniture_0_Furnishing&page=24\n",
      "648\n",
      "Next page link: https://www.flipkart.com/home-furnishing/pr?sid=jra&marketplace=FLIPKART&otracker=nmenu_sub_Home+%26+Furniture_0_Furnishing&page=25\n",
      "675\n",
      "Next page link: https://www.flipkart.com/home-furnishing/pr?sid=jra&marketplace=FLIPKART&otracker=nmenu_sub_Home+%26+Furniture_0_Furnishing&page=26\n",
      "Element not found for item 2\n",
      "Element not found for item 3\n",
      "Element not found for item 4\n",
      "Element not found for item 2\n",
      "Element not found for item 3\n",
      "Element not found for item 4\n",
      "Element not found for item 2\n",
      "Element not found for item 3\n",
      "Element not found for item 4\n",
      "Element not found for item 2\n",
      "Element not found for item 3\n",
      "Element not found for item 4\n",
      "Element not found for item 2\n",
      "Element not found for item 3\n",
      "Element not found for item 4\n",
      "Element not found for item 2\n",
      "Element not found for item 3\n",
      "Element not found for item 4\n",
      "Element not found for item 2\n",
      "Element not found for item 3\n",
      "Element not found for item 4\n",
      "Element not found for item 2\n",
      "Element not found for item 3\n",
      "Element not found for item 4\n",
      "Element not found for item 2\n",
      "Element not found for item 3\n",
      "Element not found for item 4\n",
      "675\n",
      "Error locating the 'Next' anchor tag\n"
     ]
    }
   ],
   "source": [
    "dataset = []\n",
    "while True:\n",
    "    time.sleep(3)\n",
    "    for block in range(2,11):  \n",
    "        for j in range(2, 5):\n",
    "            \n",
    "            try:\n",
    "                # Wait for the product element to be present\n",
    "                product = WebDriverWait(driver, 10).until(\n",
    "                    EC.presence_of_element_located((By.XPATH, f'/html/body/div/div/div[3]/div[1]/div[2]/div[{block}]/div/div[{j}]'))\n",
    "                )            \n",
    "                # Find all anchor tags within the product element\n",
    "                anchor_tags = product.find_elements(By.TAG_NAME, 'a')\n",
    "                if anchor_tags:  # Ensure the list is not empty\n",
    "                    links = anchor_tags[0].get_attribute('href')\n",
    "                    dataset.append(links)\n",
    "                    # print(links)\n",
    "                else:\n",
    "                    print(f\"No anchor tags found for item {j}\")\n",
    "                # print(product_link)\n",
    "                \n",
    "            except:\n",
    "                print(f\"Element not found for item {j}\")\n",
    "                # driver.back()\n",
    "                continue\n",
    "    time.sleep(3)\n",
    "    print(len(dataset))                                             \n",
    "    try:\n",
    "        # Wait until the \"Next\" anchor tag is available\n",
    "        next_anchor = WebDriverWait(driver, 10).until(\n",
    "            EC.presence_of_element_located((By.XPATH, \"//a[@class='_9QVEpD' and span='Next']\"))\n",
    "        )\n",
    "        \n",
    "        # Get the 'href' attribute of the anchor tag\n",
    "        next_href = next_anchor.get_attribute('href')\n",
    "        print(f\"Next page link: {next_href}\")\n",
    "        \n",
    "        # Optionally navigate to the next page\n",
    "        driver.get(next_href)\n",
    "        time.sleep(2)\n",
    "\n",
    "    except:\n",
    "        print(f\"Error locating the 'Next' anchor tag\")\n",
    "        break\n"
   ]
  },
  {
   "cell_type": "code",
   "execution_count": null,
   "metadata": {},
   "outputs": [
    {
     "data": {
      "text/plain": [
       "675"
      ]
     },
     "execution_count": 15,
     "metadata": {},
     "output_type": "execute_result"
    }
   ],
   "source": [
    "len(list(set(dataset)))"
   ]
  },
  {
   "cell_type": "code",
   "execution_count": null,
   "metadata": {},
   "outputs": [
    {
     "data": {
      "text/html": [
       "<div>\n",
       "<style scoped>\n",
       "    .dataframe tbody tr th:only-of-type {\n",
       "        vertical-align: middle;\n",
       "    }\n",
       "\n",
       "    .dataframe tbody tr th {\n",
       "        vertical-align: top;\n",
       "    }\n",
       "\n",
       "    .dataframe thead th {\n",
       "        text-align: right;\n",
       "    }\n",
       "</style>\n",
       "<table border=\"1\" class=\"dataframe\">\n",
       "  <thead>\n",
       "    <tr style=\"text-align: right;\">\n",
       "      <th></th>\n",
       "      <th>links</th>\n",
       "    </tr>\n",
       "  </thead>\n",
       "  <tbody>\n",
       "    <tr>\n",
       "      <th>0</th>\n",
       "      <td>https://www.flipkart.com/kingmatters-air-condi...</td>\n",
       "    </tr>\n",
       "    <tr>\n",
       "      <th>1</th>\n",
       "      <td>https://www.flipkart.com/changers-floral-doubl...</td>\n",
       "    </tr>\n",
       "    <tr>\n",
       "      <th>2</th>\n",
       "      <td>https://www.flipkart.com/kodenipr-club-blended...</td>\n",
       "    </tr>\n",
       "    <tr>\n",
       "      <th>3</th>\n",
       "      <td>https://www.flipkart.com/poorak-greyblack-free...</td>\n",
       "    </tr>\n",
       "    <tr>\n",
       "      <th>4</th>\n",
       "      <td>https://www.flipkart.com/magixy-fitted-king-si...</td>\n",
       "    </tr>\n",
       "  </tbody>\n",
       "</table>\n",
       "</div>"
      ],
      "text/plain": [
       "                                               links\n",
       "0  https://www.flipkart.com/kingmatters-air-condi...\n",
       "1  https://www.flipkart.com/changers-floral-doubl...\n",
       "2  https://www.flipkart.com/kodenipr-club-blended...\n",
       "3  https://www.flipkart.com/poorak-greyblack-free...\n",
       "4  https://www.flipkart.com/magixy-fitted-king-si..."
      ]
     },
     "execution_count": 16,
     "metadata": {},
     "output_type": "execute_result"
    }
   ],
   "source": [
    "df = pandas.DataFrame(columns=['links'])\n",
    "df['links'] = list(set(dataset))\n",
    "df.head()"
   ]
  },
  {
   "cell_type": "code",
   "execution_count": null,
   "metadata": {},
   "outputs": [
    {
     "data": {
      "text/html": [
       "<div>\n",
       "<style scoped>\n",
       "    .dataframe tbody tr th:only-of-type {\n",
       "        vertical-align: middle;\n",
       "    }\n",
       "\n",
       "    .dataframe tbody tr th {\n",
       "        vertical-align: top;\n",
       "    }\n",
       "\n",
       "    .dataframe thead th {\n",
       "        text-align: right;\n",
       "    }\n",
       "</style>\n",
       "<table border=\"1\" class=\"dataframe\">\n",
       "  <thead>\n",
       "    <tr style=\"text-align: right;\">\n",
       "      <th></th>\n",
       "      <th>0</th>\n",
       "    </tr>\n",
       "  </thead>\n",
       "  <tbody>\n",
       "    <tr>\n",
       "      <th>0</th>\n",
       "      <td>https://www.flipkart.com/lifekrafts-polyester-...</td>\n",
       "    </tr>\n",
       "    <tr>\n",
       "      <th>1</th>\n",
       "      <td>https://www.flipkart.com/la-verne-fitted-king-...</td>\n",
       "    </tr>\n",
       "    <tr>\n",
       "      <th>2</th>\n",
       "      <td>https://www.flipkart.com/darshanam-world-air-c...</td>\n",
       "    </tr>\n",
       "    <tr>\n",
       "      <th>3</th>\n",
       "      <td>https://www.flipkart.com/kanushi-refrigerator-...</td>\n",
       "    </tr>\n",
       "    <tr>\n",
       "      <th>4</th>\n",
       "      <td>https://www.flipkart.com/darshanam-world-air-c...</td>\n",
       "    </tr>\n",
       "    <tr>\n",
       "      <th>...</th>\n",
       "      <td>...</td>\n",
       "    </tr>\n",
       "    <tr>\n",
       "      <th>670</th>\n",
       "      <td>https://www.flipkart.com/aim-emporium-polyeste...</td>\n",
       "    </tr>\n",
       "    <tr>\n",
       "      <th>671</th>\n",
       "      <td>https://www.flipkart.com/bluedot-200-tc-cotton...</td>\n",
       "    </tr>\n",
       "    <tr>\n",
       "      <th>672</th>\n",
       "      <td>https://www.flipkart.com/bsb-home-solid-single...</td>\n",
       "    </tr>\n",
       "    <tr>\n",
       "      <th>673</th>\n",
       "      <td>https://www.flipkart.com/homestore-yep-front-l...</td>\n",
       "    </tr>\n",
       "    <tr>\n",
       "      <th>674</th>\n",
       "      <td>https://www.flipkart.com/nrutva-creation-2023-...</td>\n",
       "    </tr>\n",
       "  </tbody>\n",
       "</table>\n",
       "<p>675 rows × 1 columns</p>\n",
       "</div>"
      ],
      "text/plain": [
       "                                                     0\n",
       "0    https://www.flipkart.com/lifekrafts-polyester-...\n",
       "1    https://www.flipkart.com/la-verne-fitted-king-...\n",
       "2    https://www.flipkart.com/darshanam-world-air-c...\n",
       "3    https://www.flipkart.com/kanushi-refrigerator-...\n",
       "4    https://www.flipkart.com/darshanam-world-air-c...\n",
       "..                                                 ...\n",
       "670  https://www.flipkart.com/aim-emporium-polyeste...\n",
       "671  https://www.flipkart.com/bluedot-200-tc-cotton...\n",
       "672  https://www.flipkart.com/bsb-home-solid-single...\n",
       "673  https://www.flipkart.com/homestore-yep-front-l...\n",
       "674  https://www.flipkart.com/nrutva-creation-2023-...\n",
       "\n",
       "[675 rows x 1 columns]"
      ]
     },
     "execution_count": 17,
     "metadata": {},
     "output_type": "execute_result"
    }
   ],
   "source": [
    "import pandas as pd \n",
    "df = pd.DataFrame(dataset)\n",
    "df"
   ]
  },
  {
   "cell_type": "code",
   "execution_count": null,
   "metadata": {},
   "outputs": [],
   "source": [
    "df.to_csv(r'E:\\Post ADP\\Capstone Project\\Scrapping from Amazon\\datasets\\product_links\\flipkart_kids_furniture.csv', index=False)"
   ]
  },
  {
   "cell_type": "code",
   "execution_count": null,
   "metadata": {},
   "outputs": [],
   "source": [
    "df =pd.read_csv(r'E:\\Post ADP\\Capstone Project\\Scrapping from Amazon\\datasets\\product_links\\flipkart_kids_furniture.csv')"
   ]
  },
  {
   "cell_type": "code",
   "execution_count": null,
   "metadata": {},
   "outputs": [
    {
     "name": "stdout",
     "output_type": "stream",
     "text": [
      "Number of unique links: 0    675\n",
      "dtype: int64\n"
     ]
    }
   ],
   "source": [
    "num_unique_links = df.nunique()\n",
    "\n",
    "print(f\"Number of unique links: {num_unique_links}\")"
   ]
  },
  {
   "cell_type": "code",
   "execution_count": null,
   "metadata": {},
   "outputs": [
    {
     "name": "stdout",
     "output_type": "stream",
     "text": [
      "0      False\n",
      "1      False\n",
      "2      False\n",
      "3      False\n",
      "4      False\n",
      "       ...  \n",
      "670    False\n",
      "671    False\n",
      "672    False\n",
      "673    False\n",
      "674    False\n",
      "Length: 675, dtype: bool\n"
     ]
    }
   ],
   "source": [
    "print(df.duplicated())"
   ]
  },
  {
   "cell_type": "code",
   "execution_count": null,
   "metadata": {},
   "outputs": [
    {
     "data": {
      "text/plain": [
       "[]"
      ]
     },
     "execution_count": 21,
     "metadata": {},
     "output_type": "execute_result"
    }
   ],
   "source": [
    "duplicate_rows = df[df.duplicated()].index\n",
    "len(duplicate_rows)\n",
    "duplicate_rows.tolist()"
   ]
  },
  {
   "cell_type": "code",
   "execution_count": null,
   "metadata": {},
   "outputs": [
    {
     "ename": "NameError",
     "evalue": "name 'html' is not defined",
     "output_type": "error",
     "traceback": [
      "\u001b[1;31m---------------------------------------------------------------------------\u001b[0m",
      "\u001b[1;31mNameError\u001b[0m                                 Traceback (most recent call last)",
      "Cell \u001b[1;32mIn[10], line 1\u001b[0m\n\u001b[1;32m----> 1\u001b[0m \u001b[43mhtml\u001b[49m\u001b[38;5;241m/\u001b[39mbody\u001b[38;5;241m/\u001b[39mdiv[\u001b[38;5;241m1\u001b[39m]\u001b[38;5;241m/\u001b[39mdiv\u001b[38;5;241m/\u001b[39mdiv[\u001b[38;5;241m3\u001b[39m]\u001b[38;5;241m/\u001b[39mdiv[\u001b[38;5;241m1\u001b[39m]\u001b[38;5;241m/\u001b[39mdiv[\u001b[38;5;241m2\u001b[39m]\u001b[38;5;241m/\u001b[39mdiv[\u001b[38;5;241m2\u001b[39m]\u001b[38;5;241m/\u001b[39mdiv\u001b[38;5;241m/\u001b[39mdiv[\u001b[38;5;241m1\u001b[39m]\u001b[38;5;241m/\u001b[39mdiv\u001b[38;5;241m/\u001b[39ma[\u001b[38;5;241m2\u001b[39m]()\n\u001b[0;32m      2\u001b[0m html\u001b[38;5;241m/\u001b[39mbody\u001b[38;5;241m/\u001b[39mdiv[\u001b[38;5;241m1\u001b[39m]\u001b[38;5;241m/\u001b[39mdiv\u001b[38;5;241m/\u001b[39mdiv[\u001b[38;5;241m3\u001b[39m]\u001b[38;5;241m/\u001b[39mdiv[\u001b[38;5;241m1\u001b[39m]\u001b[38;5;241m/\u001b[39mdiv[\u001b[38;5;241m2\u001b[39m]\u001b[38;5;241m/\u001b[39mdiv[\u001b[38;5;241m2\u001b[39m]\u001b[38;5;241m/\u001b[39mdiv\u001b[38;5;241m/\u001b[39mdiv[\u001b[38;5;241m2\u001b[39m]\u001b[38;5;241m/\u001b[39mdiv\u001b[38;5;241m/\u001b[39ma[\u001b[38;5;241m2\u001b[39m]()\n",
      "\u001b[1;31mNameError\u001b[0m: name 'html' is not defined"
     ]
    }
   ],
   "source": [
    "/html/body/div[1]/div/div[3]/div[1]/div[2]/div[2]/div/div[1]/div/a[2]\n",
    "/html/body/div[1]/div/div[3]/div[1]/div[2]/div[2]/div/div[2]/div/a[2]"
   ]
  },
  {
   "cell_type": "code",
   "execution_count": null,
   "metadata": {},
   "outputs": [],
   "source": [
    "/html/body/div/div/div[3]/div[1]/div[2]/div[2]/div/div/div/a\n",
    "/html/body/div/div/div[3]/div[1]/div[2]/div[3]/div/div/div/a"
   ]
  },
  {
   "cell_type": "code",
   "execution_count": null,
   "metadata": {},
   "outputs": [],
   "source": [
    "/html/body/div/div/div[3]/div[1]/div[2]/div[2]/div/div[1]/div/a[1]\n",
    "/html/body/div/div/div[3]/div[1]/div[2]/div[3]/div/div[1]/div/a[1]\n",
    "/html/body/div/div/div[3]/div[1]/div[2]/div[4]/div/div[1]/div/a[1]"
   ]
  },
  {
   "cell_type": "code",
   "execution_count": null,
   "metadata": {},
   "outputs": [],
   "source": [
    "/html/body/div/div/div[3]/div[1]/div[2]/div[2]/div/div[2]/div/a[1]"
   ]
  }
 ],
 "metadata": {
  "kernelspec": {
   "display_name": "Python 3",
   "language": "python",
   "name": "python3"
  },
  "language_info": {
   "codemirror_mode": {
    "name": "ipython",
    "version": 3
   },
   "file_extension": ".py",
   "mimetype": "text/x-python",
   "name": "python",
   "nbconvert_exporter": "python",
   "pygments_lexer": "ipython3",
   "version": "3.12.5"
  }
 },
 "nbformat": 4,
 "nbformat_minor": 2
}
