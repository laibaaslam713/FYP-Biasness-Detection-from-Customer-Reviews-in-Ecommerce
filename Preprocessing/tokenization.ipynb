{
 "cells": [
  {
   "cell_type": "code",
   "execution_count": null,
   "metadata": {},
   "outputs": [],
   "source": [
    "import pandas as pd\n",
    "import nltk\n",
    "from nltk.tokenize import word_tokenize\n",
    "from nltk.corpus import stopwords"
   ]
  },
  {
   "cell_type": "code",
   "execution_count": null,
   "metadata": {},
   "outputs": [],
   "source": [
    "# Download NLTK resources\n",
    "nltk.download('punkt')\n",
    "nltk.download('stopwords')"
   ]
  },
  {
   "cell_type": "code",
   "execution_count": 13,
   "metadata": {},
   "outputs": [
    {
     "name": "stderr",
     "output_type": "stream",
     "text": [
      "[nltk_data] Downloading package punkt to C:\\Users\\Laiba\n",
      "[nltk_data]     Aslam\\AppData\\Roaming\\nltk_data...\n",
      "[nltk_data]   Package punkt is already up-to-date!\n",
      "[nltk_data] Downloading package stopwords to C:\\Users\\Laiba\n",
      "[nltk_data]     Aslam\\AppData\\Roaming\\nltk_data...\n",
      "[nltk_data]   Package stopwords is already up-to-date!\n"
     ]
    },
    {
     "name": "stdout",
     "output_type": "stream",
     "text": [
      "Tokenized data with commas saved to E:\\Post ADP\\Capstone Project\\Scrapping from Amazon\\datasets\\Cleaned_data_tokenized.csv\n"
     ]
    }
   ],
   "source": [
    "\n",
    "\n",
    "# Load the dataset with proper encoding\n",
    "file_path = r\"E:\\Post ADP\\Capstone Project\\Scrapping from Amazon\\datasets\\Cleaned_data.csv\"\n",
    "data = pd.read_csv(file_path, encoding='latin1', on_bad_lines='skip')\n",
    "\n",
    "# Stopwords list\n",
    "stop_words = set(stopwords.words('english'))\n",
    "\n",
    "# Function to clean and tokenize text\n",
    "def clean_and_tokenize(text):\n",
    "    if pd.isnull(text):  # Handle missing values\n",
    "        return \"\"\n",
    "    tokens = word_tokenize(str(text))  # Tokenize\n",
    "    filtered_tokens = [word for word in tokens if word.lower() not in stop_words and word.isalnum()]  # Remove stopwords and non-alphanumeric words\n",
    "    return \", \".join(filtered_tokens)\n",
    "\n",
    "text_columns = ['Review Text', 'productTitle', 'Description', 'Features', 'Review Title', 'Category']\n",
    "\n",
    "for col in text_columns:\n",
    "    if col in data.columns:  # Ensure the column exists\n",
    "        data[col] = data[col].apply(clean_and_tokenize)\n",
    "\n",
    "# Save the cleaned data to a new file\n",
    "output_file_path = r\"E:\\Post ADP\\Capstone Project\\Scrapping from Amazon\\datasets\\Cleaned_data_tokenized.csv\"\n",
    "data.to_csv(output_file_path, index=False)\n",
    "\n",
    "print(f\"Tokenized data with commas saved to {output_file_path}\")"
   ]
  },
  {
   "cell_type": "code",
   "execution_count": 14,
   "metadata": {},
   "outputs": [
    {
     "name": "stdout",
     "output_type": "stream",
     "text": [
      "CSV data has been successfully converted to JSON and saved.\n"
     ]
    }
   ],
   "source": [
    "import csv\n",
    "import json\n",
    "data = []\n",
    "\n",
    "# Specify the encoding while opening the file\n",
    "with open(r'E:\\Post ADP\\Capstone Project\\Scrapping from Amazon\\datasets\\Cleaned_data_tokenized.csv', 'r', encoding='utf-8') as f:\n",
    "    csvFile = csv.DictReader(f)\n",
    "\n",
    "    for row in csvFile:\n",
    "        data.append(row)\n",
    "\n",
    "# Write the data to a JSON file\n",
    "with open(r'E:\\Post ADP\\Capstone Project\\Scrapping from Amazon\\datasets\\Cleaned_data_tokenized.json', 'w', encoding='utf-8') as f:\n",
    "    json.dump(data, f, indent=4)\n",
    "\n",
    "print(\"CSV data has been successfully converted to JSON and saved.\")"
   ]
  }
 ],
 "metadata": {
  "kernelspec": {
   "display_name": "Python 3",
   "language": "python",
   "name": "python3"
  },
  "language_info": {
   "codemirror_mode": {
    "name": "ipython",
    "version": 3
   },
   "file_extension": ".py",
   "mimetype": "text/x-python",
   "name": "python",
   "nbconvert_exporter": "python",
   "pygments_lexer": "ipython3",
   "version": "3.12.5"
  }
 },
 "nbformat": 4,
 "nbformat_minor": 2
}
