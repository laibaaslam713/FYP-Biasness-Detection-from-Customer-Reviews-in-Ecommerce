{
 "cells": [
  {
   "cell_type": "code",
   "execution_count": 2,
   "metadata": {},
   "outputs": [],
   "source": [
    "import pandas as pd\n"
   ]
  },
  {
   "cell_type": "code",
   "execution_count": 4,
   "metadata": {},
   "outputs": [],
   "source": [
    "import json\n",
    "\n",
    "# List of file names\n",
    "files = ['E:\\Post ADP\\Capstone Project\\FYP\\datasets\\reviews_dataset\\flipkart_furnishing.json', \n",
    "         'E:\\Post ADP\\Capstone Project\\FYP\\datasets\\reviews_dataset\\flipkart_kids_furniture.json', \n",
    "         'E:\\Post ADP\\Capstone Project\\FYP\\datasets\\reviews_dataset\\flipkart_Laptops.json', \n",
    "         'E:\\Post ADP\\Capstone Project\\FYP\\datasets\\reviews_dataset\\flipkart_sports.json']\n",
    "\n",
    "# dictionary to store the merged data\n",
    "merged_data = []\n",
    "\n",
    "# Load and merge each file\n",
    "for file_name in files:\n",
    "    with open(file_name, 'r') as file:\n",
    "        data = json.load(file)\n",
    "        merged_data.extend(data)  # Merges current file's data into merged_data\n",
    "\n",
    "# merged data into a new file\n",
    "with open('flipkart_reviews_dataset.json', 'w') as file:\n",
    "    json.dump(merged_data, file, indent=4)\n",
    "\n"
   ]
  },
  {
   "cell_type": "code",
   "execution_count": null,
   "metadata": {},
   "outputs": [],
   "source": [
    "len(merged_data)"
   ]
  },
  {
   "cell_type": "code",
   "execution_count": 6,
   "metadata": {},
   "outputs": [],
   "source": [
    "\n",
    "with open('flipkart_reviews_dataset.json') as json_file:\n",
    "    data = json.load(json_file)\n",
    "\n",
    "# Convert JSON to DataFrame\n",
    "df = pd.json_normalize(data)\n",
    "\n",
    "# Save DataFrame to CSV\n",
    "df.to_csv('flipkart_reviews_dataset.csv', index=False)"
   ]
  },
  {
   "cell_type": "code",
   "execution_count": 10,
   "metadata": {},
   "outputs": [
    {
     "name": "stderr",
     "output_type": "stream",
     "text": [
      "<>:1: SyntaxWarning: invalid escape sequence '\\P'\n",
      "<>:2: SyntaxWarning: invalid escape sequence '\\P'\n",
      "<>:6: SyntaxWarning: invalid escape sequence '\\P'\n",
      "<>:1: SyntaxWarning: invalid escape sequence '\\P'\n",
      "<>:2: SyntaxWarning: invalid escape sequence '\\P'\n",
      "<>:6: SyntaxWarning: invalid escape sequence '\\P'\n",
      "C:\\Users\\Laiba Aslam\\AppData\\Local\\Temp\\ipykernel_17832\\547116028.py:1: SyntaxWarning: invalid escape sequence '\\P'\n",
      "  file1 = pd.read_csv('E:\\Post ADP\\Capstone Project\\FYP\\datasets\\Amazon_Cleaned_dataset.csv')\n",
      "C:\\Users\\Laiba Aslam\\AppData\\Local\\Temp\\ipykernel_17832\\547116028.py:2: SyntaxWarning: invalid escape sequence '\\P'\n",
      "  file2 = pd.read_csv('E:\\Post ADP\\Capstone Project\\FYP\\Preprocessing\\extractedFeatures.csv')\n",
      "C:\\Users\\Laiba Aslam\\AppData\\Local\\Temp\\ipykernel_17832\\547116028.py:6: SyntaxWarning: invalid escape sequence '\\P'\n",
      "  merged_files.to_csv('E:\\Post ADP\\Capstone Project\\FYP\\datasets\\Feature_extraction.csv')\n"
     ]
    }
   ],
   "source": [
    "file1 = pd.read_csv('E:\\Post ADP\\Capstone Project\\FYP\\datasets\\Amazon_Cleaned_dataset.csv')\n",
    "file2 = pd.read_csv('E:\\Post ADP\\Capstone Project\\FYP\\Preprocessing\\extractedFeatures.csv')\n",
    "\n",
    "merged_files = pd.concat([file1, file2], axis =1)\n",
    "\n",
    "merged_files.to_csv('E:\\Post ADP\\Capstone Project\\FYP\\datasets\\Feature_extraction.csv')"
   ]
  }
 ],
 "metadata": {
  "kernelspec": {
   "display_name": "Python 3",
   "language": "python",
   "name": "python3"
  },
  "language_info": {
   "codemirror_mode": {
    "name": "ipython",
    "version": 3
   },
   "file_extension": ".py",
   "mimetype": "text/x-python",
   "name": "python",
   "nbconvert_exporter": "python",
   "pygments_lexer": "ipython3",
   "version": "3.12.5"
  }
 },
 "nbformat": 4,
 "nbformat_minor": 2
}
