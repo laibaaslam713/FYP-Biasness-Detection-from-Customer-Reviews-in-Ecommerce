{
 "cells": [
  {
   "cell_type": "code",
   "execution_count": 1,
   "metadata": {},
   "outputs": [],
   "source": [
    "import pandas as pd\n"
   ]
  },
  {
   "cell_type": "code",
   "execution_count": 4,
   "metadata": {},
   "outputs": [],
   "source": [
    "import json\n",
    "\n",
    "# List of file names\n",
    "files = [r'E:\\Post ADP\\Capstone Project\\Scrapping from Amazon\\datasets\\reviews_dataset\\flipkart_furnishing.json', \n",
    "         r'E:\\Post ADP\\Capstone Project\\Scrapping from Amazon\\datasets\\reviews_dataset\\flipkart_kids_furniture.json', \n",
    "         r'E:\\Post ADP\\Capstone Project\\Scrapping from Amazon\\datasets\\reviews_dataset\\flipkart_Laptops.json', \n",
    "         r'E:\\Post ADP\\Capstone Project\\Scrapping from Amazon\\datasets\\reviews_dataset\\flipkart_sports.json']\n",
    "\n",
    "# Empty dictionary to store the merged data\n",
    "merged_data = []\n",
    "\n",
    "# Load and merge each file\n",
    "for file_name in files:\n",
    "    with open(file_name, 'r') as file:\n",
    "        data = json.load(file)\n",
    "        merged_data.extend(data)  # Merges current file's data into merged_data\n",
    "\n",
    "# Write merged data to a new file\n",
    "with open('flipkart_reviews_dataset.json', 'w') as file:\n",
    "    json.dump(merged_data, file, indent=4)\n",
    "\n"
   ]
  },
  {
   "cell_type": "code",
   "execution_count": null,
   "metadata": {},
   "outputs": [],
   "source": [
    "len(merged_data)"
   ]
  },
  {
   "cell_type": "code",
   "execution_count": 6,
   "metadata": {},
   "outputs": [],
   "source": [
    "\n",
    "with open('flipkart_reviews_dataset.json') as json_file:\n",
    "    data = json.load(json_file)\n",
    "\n",
    "# Convert JSON to DataFrame\n",
    "df = pd.json_normalize(data)\n",
    "\n",
    "# Save DataFrame to CSV\n",
    "df.to_csv('flipkart_reviews_dataset.csv', index=False)"
   ]
  }
 ],
 "metadata": {
  "kernelspec": {
   "display_name": "Python 3",
   "language": "python",
   "name": "python3"
  },
  "language_info": {
   "codemirror_mode": {
    "name": "ipython",
    "version": 3
   },
   "file_extension": ".py",
   "mimetype": "text/x-python",
   "name": "python",
   "nbconvert_exporter": "python",
   "pygments_lexer": "ipython3",
   "version": "3.12.5"
  }
 },
 "nbformat": 4,
 "nbformat_minor": 2
}
